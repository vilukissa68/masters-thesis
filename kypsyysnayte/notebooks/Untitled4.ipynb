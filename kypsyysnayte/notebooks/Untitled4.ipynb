{
 "cells": [
  {
   "cell_type": "code",
   "execution_count": 1,
   "id": "fbfafb0e-a6cf-47e7-b0a5-24dd91e8df51",
   "metadata": {},
   "outputs": [],
   "source": [
    "bias = [\n",
    "    -164,\n",
    "    -419,\n",
    "    145,\n",
    "    -892,\n",
    "    -78,\n",
    "    42,\n",
    "    74,\n",
    "    -326,\n",
    "    -316,\n",
    "    20,\n",
    "    136,\n",
    "    105,\n",
    "    -21,\n",
    "    -508,\n",
    "    -158,\n",
    "    -171,\n",
    "    -375,\n",
    "    234,\n",
    "    -449,\n",
    "    30,\n",
    "    55,\n",
    "    298,\n",
    "    81,\n",
    "    39,\n",
    "    315,\n",
    "    -464,\n",
    "    -100,\n",
    "    -71,\n",
    "    -382,\n",
    "    145,\n",
    "    -50,\n",
    "    -167,\n",
    "    69,\n",
    "    -765,\n",
    "    -89,\n",
    "    509,\n",
    "    -1,\n",
    "    -318,\n",
    "    1435,\n",
    "    -374,\n",
    "    -374,\n",
    "    9,\n",
    "    414,\n",
    "    67,\n",
    "    -7,\n",
    "    204,\n",
    "    -509,\n",
    "    -406,\n",
    "    -143,\n",
    "    80,\n",
    "    52,\n",
    "    -171,\n",
    "    140,\n",
    "    -866,\n",
    "    -707,\n",
    "    -225,\n",
    "    38,\n",
    "    173,\n",
    "    -116,\n",
    "    -452,\n",
    "    232,\n",
    "    264,\n",
    "    -94,\n",
    "    -339\n",
    "]"
   ]
  },
  {
   "cell_type": "code",
   "execution_count": 8,
   "id": "074d6d33-0a3c-4330-bc20-d5cbe88148fe",
   "metadata": {},
   "outputs": [
    {
     "name": "stdout",
     "output_type": "stream",
     "text": [
      "-892\n",
      "1435\n",
      "4.0\n"
     ]
    }
   ],
   "source": [
    "import numpy as np\n",
    "bias_min, bias_max = min(bias), max(bias)\n",
    "abs_max = max(abs(bias_min), abs(bias_max))\n",
    "shift = np.ceil(np.log2(abs_max / 127))\n",
    "print(bias_min)\n",
    "print(bias_max)\n",
    "print(shift)"
   ]
  },
  {
   "cell_type": "code",
   "execution_count": 18,
   "id": "0431fabd-0d17-4df6-95e3-929cf1e1023a",
   "metadata": {},
   "outputs": [
    {
     "name": "stdout",
     "output_type": "stream",
     "text": [
      "4.0\n"
     ]
    },
    {
     "data": {
      "text/plain": [
       "89"
      ]
     },
     "execution_count": 18,
     "metadata": {},
     "output_type": "execute_result"
    }
   ],
   "source": [
    "shift = np.ceil(np.log2(1435 / 127))\n",
    "print(shift)\n",
    "1435 >> int(shift)"
   ]
  },
  {
   "cell_type": "code",
   "execution_count": null,
   "id": "f87959da-320b-4f64-a29b-a424cbae8000",
   "metadata": {},
   "outputs": [],
   "source": []
  }
 ],
 "metadata": {
  "kernelspec": {
   "display_name": "Python 3 (ipykernel)",
   "language": "python",
   "name": "python3"
  },
  "language_info": {
   "codemirror_mode": {
    "name": "ipython",
    "version": 3
   },
   "file_extension": ".py",
   "mimetype": "text/x-python",
   "name": "python",
   "nbconvert_exporter": "python",
   "pygments_lexer": "ipython3",
   "version": "3.8.19"
  }
 },
 "nbformat": 4,
 "nbformat_minor": 5
}
