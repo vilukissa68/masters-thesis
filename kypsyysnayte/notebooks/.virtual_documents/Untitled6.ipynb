import plotly.express as px
%matplotlib inline
from IPython.display import Image
mat = [
    [11, 1, 2, 0, 1, 0, 3, 0, 1, 1],
    [1, 19, 0, 0, 0, 0, 0, 0, 0, 0],
    [3, 0, 11, 2, 1, 0, 2, 1, 0, 0],
    [0, 1, 0, 18, 0, 0, 0, 1, 0, 0],
    [0, 0, 2, 4, 11, 1, 1, 1, 0, 0],
    [0, 0, 0, 6, 0, 9, 4, 1, 0, 0],
    [0, 0, 0, 1, 0, 0, 19, 0, 0, 0],
    [0, 0, 1, 4, 2, 0, 1, 11, 0, 1],
    [1, 2, 0, 1, 0, 0, 2, 0, 14, 0],
    [0, 1, 0, 0, 0, 0, 3, 0, 0, 16],
       ]

fig = px.imshow(mat, text_auto=True)
fig.show()
#fig.write_image("./ic_200_abs_heuristic.eps")
img_bytes = fig.to_image(format="png")
Image(img_bytes)




