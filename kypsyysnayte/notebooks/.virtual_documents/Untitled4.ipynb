bias = [
    -164,
    -419,
    145,
    -892,
    -78,
    42,
    74,
    -326,
    -316,
    20,
    136,
    105,
    -21,
    -508,
    -158,
    -171,
    -375,
    234,
    -449,
    30,
    55,
    298,
    81,
    39,
    315,
    -464,
    -100,
    -71,
    -382,
    145,
    -50,
    -167,
    69,
    -765,
    -89,
    509,
    -1,
    -318,
    1435,
    -374,
    -374,
    9,
    414,
    67,
    -7,
    204,
    -509,
    -406,
    -143,
    80,
    52,
    -171,
    140,
    -866,
    -707,
    -225,
    38,
    173,
    -116,
    -452,
    232,
    264,
    -94,
    -339
]


import numpy as np
bias_min, bias_max = min(bias), max(bias)
abs_max = max(abs(bias_min), abs(bias_max))
shift = np.ceil(np.log2(abs_max / 127))
print(bias_min)
print(bias_max)
print(shift)


shift = np.ceil(np.log2(1435 / 127))
print(shift)
1435 >> int(shift)



