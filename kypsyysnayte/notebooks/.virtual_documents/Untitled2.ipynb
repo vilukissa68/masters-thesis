import numpy as np

# Function to calculate the shift error for a given shift value
def calculate_shift_error(shift):
    errors = {}
    for num in range(2**16):
        original = num
        shifted = (num >> shift) << shift
        # Clip the result to 8 bits (0 to 255)
        clipped = np.clip(shifted, 0, 255)
        error = abs(original - clipped)
        errors[original] = error
    return errors

# Calculate errors for shifts from 0 to 7
shift_errors = {}
for shift in range(8):
    shift_errors[shift] = calculate_shift_error(shift)

# Function to calculate statistics for errors
def calculate_stats(errors):
    max_error = max(errors.values())
    min_error = min(errors.values())
    mean_error = np.mean(list(errors.values()))
    return max_error, min_error, mean_error

# Print results for each shift value
for shift in range(8):
    max_error, min_error, mean_error = calculate_stats(shift_errors[shift])
    print(f"Shift: {shift}")
    print(f"  Max Error: {max_error}")
    print(f"  Min Error: {min_error}")
    print(f"  Mean Error: {mean_error}")
    print("  Sample Errors: ", {k: shift_errors[shift][k] for k in range(10)})
    print()




