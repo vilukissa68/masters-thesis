Contents API 5 (http://127.0.0.1:8888)

 | [Home] |

[New Notebook] [Resync] [Open In Browser]

Create New Notebooks Using Kernel:
(*) Python 3 (ipykernel)

[Dir] : %USERPROFILE%\Pictures\mpv
[Dir] : Applications
[Dir] : Calibre Library
[Dir] : Desktop
[Dir] : Documents
[Dir] : Downloads
[Dir] : Dropbox
[Dir] : Movies
[Dir] : Music
[Dir] : OrbStack
[Dir] : Pictures
[Dir] : Public
[Dir] : Zotero
[Dir] : a.out.dSYM
[Dir] : advanced-signal-laboratory
[Dir] : anaconda3
[Dir] : doom-emacs
[Dir] : dotfiles
[Dir] : gusek
[Dir] : homesite
[Dir] : keittokirja
[Dir] : knowledge_mining_exercises
[Dir] : nvim
[Dir] : operaatiotutkimus_projekti
[Dir] : rust_webserver
[Dir] : scripts
[Dir] : signal_compression_project
[Dir] : wekafiles
[Dir] : work
[Open] [Stop] [Delete] : Untitled.ipynb                                    2024-11-04
[Open] [Stop] [Delete] : Untitled1.ipynb                                   2024-11-04
[Open] [Stop] [Delete] : Untitled2.ipynb                                   2024-11-04
[Open] [Stop] [Delete] : Untitled3.ipynb                                   2024-11-04
[Open] [Stop] [Delete] : Untitled4.ipynb                                   2024-11-05
[Open] [----] [Delete] : Untitled5.ipynb                                   2024-11-08
[Open] [Stop] [Delete] : Untitled6.ipynb                                   2024-11-13
[Open]                 : a.out                                             2024-08-20
[Open]                 : build_module.py                                   2024-09-09
[Open]                 : gnupg.rb                                          2024-09-07
[Open]                 : kiusa.org                                         2024-03-30
[Open]                 : knowledge_mining_exercises.zip                    2024-04-19
[Open]                 : local.env                                         2024-06-05
[Open]                 : message.txt                                       2024-07-30
[Open]                 : nohup.out                                         2024-10-16
[Open]                 : operaatiotutkimus_projekti.zip                    2024-04-21
[Open]                 : pretrainedResnet.tflite                           2024-08-07
[Open]                 : rant.md                                           2024-09-01
[Open]                 : results.org                                       2024-09-07
[Open]                 : switch_gpg.sh                                     2024-09-07
[Open]                 : test.c                                            2024-08-20
[Open]                 : test.el                                           2024-09-04
[Open]                 : test.py                                           2024-07-25
[Open]                 : test2.py                                          2024-05-23
[Open]                 : thesis.org                                        2024-06-19
[Open]                 : v1                                                2024-06-24
[Open]                 : v2                                                2024-06-24
[Open]                 : viesti.md                                         2024-04-05
[Open]                 : vvw.tflite                                        2024-10-01
