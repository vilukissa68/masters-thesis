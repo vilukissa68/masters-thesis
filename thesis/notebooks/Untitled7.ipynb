{
 "cells": [
  {
   "cell_type": "code",
   "execution_count": 5,
   "id": "aef3beef-f356-4c9e-82cc-965ff9c01ae8",
   "metadata": {
    "collapsed": false
   },
   "outputs": [
    {
     "name": "stdout",
     "output_type": "stream",
     "text": [
      "Accuracy: 0.999\n",
      "Precision: 0\n",
      "Recall: 0.0\n",
      "FPR: 0.0\n"
     ]
    }
   ],
   "source": [
    "def accuracy(TP, TN, FP, FN):\n",
    "    return (TP + TN) / (TP + TN + FP + FN)\n",
    "\n",
    "def precision(TP, FP):\n",
    "    if TP == 0:\n",
    "        return 0\n",
    "    return TP/ (TP + FP)\n",
    "\n",
    "def recall(TP, FN):\n",
    "    return TP / (TP + FN)\n",
    "\n",
    "def FPR(FP, TN):\n",
    "    return (FP) / (FP + TN)\n",
    "\n",
    "TN = 999\n",
    "TP = 0\n",
    "FP = 0\n",
    "FN = 1\n",
    "\n",
    "print(\"Accuracy:\", accuracy(TP, TN, FP, FN))\n",
    "print(\"Precision:\", precision(TP, FP))\n",
    "print(\"Recall:\", recall(TP, FN))\n",
    "print(\"FPR:\", FPR(FP, TN))"
   ]
  }
 ],
 "metadata": {
  "kernelspec": {
   "argv": [
    "/opt/homebrew/Cellar/jupyterlab/4.2.5_1/libexec/bin/python",
    "-m",
    "ipykernel_launcher",
    "-f",
    "{connection_file}"
   ],
   "display_name": "Python 3 (ipykernel)",
   "env": null,
   "interrupt_mode": "signal",
   "language": "python",
   "metadata": {
    "debugger": true
   },
   "name": "python3"
  },
  "name": "Untitled7.ipynb"
 },
 "nbformat": 4,
 "nbformat_minor": 5
}
