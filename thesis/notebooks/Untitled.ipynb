{
 "cells": [
  {
   "cell_type": "code",
   "execution_count": 2,
   "id": "9301ba50-de90-4f5f-8cad-7580b7e98693",
   "metadata": {},
   "outputs": [
    {
     "data": {
      "image/png": "[encoded data removed]",
      "text/plain": [
       "<Figure size 640x480 with 1 Axes>"
      ]
     },
     "metadata": {},
     "output_type": "display_data"
    }
   ],
   "source": [
    "# import seaborn as sns\n",
    "import numpy as np\n",
    "%matplotlib inline\n",
    "from matplotlib import pyplot as plt\n",
    "channel1= \"30 31 37 38 32 28 34 31 30 31 33 32 33 38 41 42 39 34 32 32 28 21 22 20 21 15 12 13 15 9 -2 -12 24 23 31 38 34 32 36 34 35 28 27 31 35 42 43 43 41 32 26 23 17 11 12 13 21 19 17 14 15 8 -3 -9 23 23 30 39 32 35 37 37 35 34 30 29 33 38 39 41 42 31 17 -7 -18 -30 -27 -14 -8 6 15 12 14 11 2 -8 27 27 32 46 39 39 41 41 37 37 39 63 49 29 34 36 30 21 -24 -25 -30 -36 -48 -54 -42 -45 -15 4 12 12 8 -1 27 28 33 42 41 35 41 38 36 36 45 118 67 23 18 14 -17 -50 -43 -15 -16 -22 -31 -35 -54 -44 -43 -23 0 10 5 1 20 5 2 19 33 37 39 39 35 37 35 52 29 0 -31 -62 -59 -62 -39 -10 -6 -9 -14 -34 -29 -37 -70 -61 -20 12 10 6 -1 -19 -81 -40 25 42 40 42 41 38 36 19 1 -1 -28 -60 -50 -56 -45 4 18 -4 -23 -21 -13 -43 -65 -82 -49 4 13 6 3 -29 -86 -58 15 39 37 40 43 33 12 -8 2 16 -12 -40 -37 -43 -51 -4 35 8 -26 -22 -28 -43 -74 -79 -71 -21 10 8 42 -25 -74 -4 25 33 35 38 37 46 -15 -3 29 28 -7 -42 -46 -44 -48 -47 10 18 -15 -41 -45 -42 -57 -72 -88 -54 5 9 52 6 -34 26 46 30 28 25 79 109 79 28 46 20 -3 -35 -42 -54 -69 -52 9 15 5 -22 -42 -41 -44 -53 -78 -88 -33 4 55 -20 14 37 49 27 31 -6 85 109 92 36 55 28 -3 -8 -50 -48 -83 -37 47 29 27 -21 -41 -25 -40 -50 -69 -87 -69 -24 60 -28 7 42 59 38 45 6 -11 66 71 42 57 61 6 -11 -26 -44 -90 -3 82 32 18 -35 -45 -34 -24 -43 -55 -73 -66 -52 61 -38 -1 47 46 38 50 31 -31 40 40 9 58 88 32 -5 -8 -13 -78 22 66 27 -5 -37 -44 -44 -33 -42 -44 -55 -49 -55 61 -35 24 57 -9 8 45 39 -25 19 17 39 61 98 52 13 -2 -11 -57 26 58 21 -14 -41 -48 -56 -48 -29 -28 -38 -31 -34 66 -20 40 58 -23 -29 28 39 -28 -13 10 70 62 44 17 26 18 -25 -57 24 51 9 2 -18 -43 -37 -33 -19 -13 -28 -31 -11 69 4 44 56 2 -50 12 27 -13 2 15 102 114 17 7 3 -7 -20 -33 16 40 24 -16 -41 -57 -41 -23 -16 -8 -25 -7 8 75 18 40 63 40 -50 -2 10 10 -32 26 45 34 12 -15 -15 -27 -23 -16 43 28 20 7 -19 -50 -49 -34 -27 -21 -3 23 16 86 35 36 55 48 -34 -32 28 20 -22 1 -10 -14 -12 -26 -13 -42 -27 16 -10 -60 0 5 -53 -68 -70 -57 -26 -12 15 22 12 84 50 39 45 48 -4 -42 13 25 7 -24 -51 6 -4 1 19 -43 -36 22 4 -11 -21 -53 -64 -84 -63 -42 5 27 32 26 23 71 59 43 46 49 16 -42 -9 -6 9 16 -58 1 -20 17 56 -12 -55 3 9 6 -39 -77 -76 -81 -38 -7 35 43 36 30 21 37 67 51 49 53 24 -29 3 43 -25 -35 -48 -35 -6 50 63 22 -28 -39 -41 -68 -82 -90 -104 -82 -68 -20 16 16 0 -1 -8 -11 67 49 50 53 10 -45 22 117 91 5 6 21 48 62 66 40 -3 -18 -67 -93 -94 -79 -70 -67 -70 -59 -56 -50 -59 -69 -73 -49 47 46 48 49 12 -19 83 125 124 80 -4 -14 -4 -12 -6 -24 -60 -60 -68 -76 -78 -77 -72 -72 -77 -85 -77 -69 -80 -85 -86 -87 -32 16 40 50 37 37 118 125 99 -18 -68 -75 -79 -79 -80 -83 -86 -82 -86 -90 -82 -82 -85 -86 -82 -82 -78 -73 -75 -77 -83 -99 -99 -69 3 38 4 66 126 113 13 -67 -78 -78 -77 -79 -78 -81 -86 -89 -94 -93 -89 -90 -86 -83 -72 -66 -69 -72 -78 -82 -77 -80 -98 -94 -55 0 0 87 127 59 -62 -74 -78 -76 -76 -82 -83 -85 -87 -92 -89 -88 -88 -85 -82 -69 -66 -64 -69 -74 -78 -58 -45 -76 -93 -97 -87 -62 0 96 112 -4 -70 -79 -72 -74 -84 -84 -81 -82 -85 -85 -84 -84 -83 -74 -70 -74 -82 -85 -92 -77 -55 -43 -52 -78 -93 -99 -93 -84 -50 74 83 -31 -63 -74 -80 -70 -80 -88 -83 -81 -80 -81 -82 -77 -89 -89 -80 -81 -89 -100 -88 -61 -61 -82 -77 -78 -93 -96 -95 -87 -82 -24 42 -64 -74 -76 -75 -67 -70 -74 -83 -86 -87 -82 -79 -82 -86 -88 -89 -91 -88 -84 -65 -81 -97 -113 -77 -60 -86 -97 -90 -91 -85 -86 -57 -79 -97 -101 -90 -79 -72 -70 -75 -72 -68 -71 -75 -78 -83 -89 -95 -86 -66 -49 -55 -72 -90 -115 -88 -67 -79 -93 -85 -89 -86 -84 -88 -86 -101 -105 -98 -101 -99 -92 -81 -72 -66 -62 -53 -59 -79 -85 -85 -68 -43 -19 -35 -68 -102 -99 -108 -74 -72 -83 -85 -88 -88 -88 -90 -92 -102 -106 -99 -103 -99 -109 -110 -96 -81 -67 -54 -62 -75 -76 -83 -61 -39 -23 -39 -80 -104 -94 -107\"\n",
    "channel2 = \"-16 -17 -12 -10 -16 -19 -13 -15 -17 -15 -12 -17 -17 -11 -11 -9 -11 -15 -17 -16 -19 -21 -21 -22 -21 -27 -30 -31 -31 -33 -37 -43 -16 -18 -14 -12 -16 -15 -11 -14 -12 -18 -17 -18 -15 -9 -11 -13 -13 -17 -16 -13 -18 -24 -26 -28 -23 -26 -26 -31 -30 -33 -37 -40 -18 -19 -17 -17 -22 -13 -11 -11 -13 -13 -14 -19 -17 -13 -14 -15 -12 -14 -17 -32 -38 -50 -51 -43 -42 -32 -25 -29 -29 -30 -33 -39 -21 -18 -19 -16 -18 -11 -8 -9 -13 -11 -5 18 2 -17 -13 -14 -16 -17 -48 -41 -38 -38 -53 -65 -58 -66 -43 -30 -26 -27 -29 -34 -21 -14 -13 -14 -14 -15 -8 -12 -15 -12 0 86 28 -14 -17 -20 -48 -75 -59 -25 -18 -14 -26 -34 -56 -50 -55 -45 -32 -27 -34 -35 -19 -24 -28 -16 -13 -15 -12 -13 -17 -12 -10 10 -6 -26 -53 -78 -70 -72 -45 -15 -7 -6 -12 -32 -28 -37 -70 -70 -44 -23 -30 -33 -28 -33 -91 -54 -11 -10 -13 -10 -11 -12 -8 -21 -30 -20 -41 -61 -45 -53 -44 2 14 -10 -29 -26 -17 -45 -57 -81 -67 -30 -29 -35 -13 -32 -85 -64 -17 -11 -14 -12 -9 -15 -19 -34 -18 3 -22 -41 -33 -40 -51 -10 25 -4 -35 -30 -35 -47 -68 -75 -81 -45 -25 -31 33 -23 -70 -7 -4 -15 -11 -6 -7 7 -39 -23 13 15 -17 -48 -47 -43 -50 -57 -3 7 -25 -49 -51 -46 -55 -71 -93 -69 -22 -25 48 11 -28 26 21 -12 -12 -10 52 86 52 3 25 3 -18 -43 -44 -54 -71 -60 -3 5 -4 -30 -47 -43 -43 -52 -79 -98 -53 -25 55 -12 23 41 28 -16 -10 -39 69 96 63 7 31 9 -20 -17 -52 -48 -84 -43 37 19 19 -28 -45 -26 -40 -49 -69 -92 -82 -47 63 -20 16 47 39 -8 -5 -35 -33 54 43 14 33 43 -9 -21 -30 -44 -90 -7 73 24 11 -39 -48 -35 -24 -41 -53 -75 -73 -72 66 -32 6 52 28 -5 -5 -19 -60 26 16 -14 38 74 21 -15 -14 -14 -78 19 59 21 -10 -40 -45 -44 -33 -41 -41 -55 -54 -73 64 -33 26 60 -18 -22 -4 -12 -56 4 -3 21 46 88 44 3 -11 -14 -57 24 53 16 -18 -43 -48 -55 -48 -28 -27 -40 -39 -55 68 -21 39 58 -19 -39 -9 -6 -54 -22 -5 57 52 37 12 15 8 -28 -57 24 47 5 0 -19 -42 -35 -32 -18 -12 -32 -43 -33 69 1 39 50 9 -45 -8 -3 -34 -8 3 93 108 10 2 -7 -16 -24 -40 6 31 19 -20 -43 -56 -40 -24 -19 -18 -42 -32 -24 75 18 36 54 42 -42 -3 -2 -7 -48 15 35 24 4 -22 -22 -27 -27 -38 15 10 13 2 -23 -52 -49 -35 -37 -45 -40 -20 -24 87 38 39 56 54 -26 -32 21 9 -35 -12 -23 -26 -23 -37 -18 -37 -25 0 -32 -72 -8 -2 -59 -72 -72 -58 -35 -34 -16 -12 -18 83 56 47 53 56 3 -40 11 20 0 -38 -64 -7 -17 -11 15 -36 -32 11 -11 -19 -29 -60 -69 -87 -66 -59 -23 -9 -8 -13 -17 64 61 48 51 54 21 -38 -7 -4 8 6 -69 -10 -31 6 48 -10 -53 -9 -4 1 -42 -79 -77 -79 -38 -37 -10 -7 -15 -17 -21 28 65 50 45 53 29 -25 7 47 -23 -38 -51 -38 -10 45 54 20 -28 -50 -51 -67 -76 -82 -95 -71 -57 -28 -3 -5 -19 -15 -23 -8 72 50 41 51 16 -41 25 119 94 12 13 28 54 68 64 44 5 -19 -66 -79 -74 -58 -47 -43 -44 -29 -27 -24 -32 -36 -38 -23 69 55 44 49 18 -16 83 124 125 96 15 4 13 5 5 -4 -35 -41 -46 -44 -44 -43 -35 -34 -37 -32 -24 -20 -31 -31 -33 -39 9 40 46 54 42 38 117 123 103 8 -40 -48 -52 -53 -56 -49 -47 -47 -46 -42 -38 -39 -41 -39 -35 -34 -32 -32 -34 -33 -38 -37 -41 -26 25 51 8 61 122 117 31 -34 -44 -44 -43 -45 -44 -42 -44 -46 -49 -45 -42 -43 -39 -36 -25 -25 -27 -26 -29 -34 -25 -17 -34 -43 -22 20 8 85 125 70 -35 -37 -40 -38 -38 -45 -46 -46 -47 -48 -45 -42 -39 -36 -33 -20 -18 -19 -20 -20 -23 -5 9 -14 -29 -42 -45 -33 17 101 117 15 -36 -41 -34 -36 -46 -46 -45 -44 -45 -42 -40 -38 -31 -22 -18 -23 -31 -33 -37 -20 2 10 -3 -18 -30 -39 -42 -45 -22 91 100 -2 -24 -34 -41 -31 -41 -48 -46 -44 -41 -39 -39 -31 -36 -35 -26 -27 -35 -43 -27 1 -2 -30 -32 -20 -31 -36 -40 -40 -44 5 69 -28 -31 -34 -33 -25 -28 -32 -45 -49 -48 -40 -36 -36 -33 -35 -36 -38 -35 -26 -3 -18 -38 -68 -35 -4 -28 -40 -37 -41 -39 -49 -21 -39 -51 -57 -46 -35 -28 -26 -36 -34 -29 -29 -31 -33 -34 -40 -45 -37 -16 4 3 -12 -31 -64 -43 -12 -26 -43 -37 -38 -36 -40 -47 -43 -56 -61 -54 -57 -55 -48 -42 -33 -27 -19 -9 -15 -33 -40 -40 -23 2 28 17 -13 -46 -46 -64 -21 -23 -39 -42 -39 -36 -41 -47 -49 -59 -62 -55 -59 -55 -65 -70 -58 -41 -24 -9 -17 -32 -33 -41 -19 3 18 7 -29 -51 -44 -61\"\n",
    "channel3 = \"-79 -81 -77 -75 -82 -87 -81 -83 -84 -87 -87 -76 -79 -87 -83 -84 -88 -90 -89 -85 -84 -83 -83 -85 -84 -89 -85 -87 -90 -92 -92 -95 -77 -88 -83 -72 -79 -85 -81 -83 -82 -90 -87 -74 -76 -87 -88 -95 -98 -95 -87 -78 -75 -73 -76 -80 -78 -82 -83 -90 -94 -97 -96 -94 -81 -95 -92 -80 -86 -84 -83 -83 -85 -85 -80 -71 -77 -90 -91 -93 -89 -81 -74 -79 -76 -78 -81 -78 -80 -73 -77 -89 -93 -94 -94 -95 -88 -96 -97 -84 -85 -82 -80 -80 -84 -83 -71 -33 -53 -87 -81 -74 -70 -61 -81 -63 -52 -44 -62 -78 -76 -89 -83 -82 -85 -89 -89 -92 -87 -80 -79 -81 -85 -88 -81 -84 -87 -86 -69 36 -21 -72 -68 -57 -78 -97 -72 -30 -17 -10 -23 -35 -61 -58 -81 -83 -80 -82 -92 -92 -74 -64 -71 -75 -84 -89 -87 -87 -91 -89 -86 -43 -50 -70 -85 -97 -85 -83 -52 -18 -8 -6 -12 -32 -31 -42 -81 -91 -79 -70 -84 -88 -71 -48 -111 -100 -80 -85 -88 -85 -86 -91 -89 -76 -69 -53 -58 -71 -56 -64 -54 -7 4 -20 -38 -34 -25 -51 -59 -89 -92 -70 -80 -89 -38 -36 -90 -87 -72 -86 -92 -89 -79 -77 -77 -79 -51 -21 -35 -49 -40 -46 -59 -21 12 -16 -47 -40 -44 -54 -70 -79 -96 -78 -77 -89 16 -23 -69 -15 -46 -85 -87 -78 -62 -33 -69 -50 -7 0 -27 -54 -51 -46 -55 -67 -16 -5 -35 -58 -59 -52 -61 -75 -101 -93 -69 -83 35 15 -23 21 -16 -77 -81 -68 18 70 38 -9 17 -3 -21 -49 -49 -57 -75 -70 -16 -6 -14 -39 -54 -50 -50 -57 -85 -113 -84 -71 47 -6 30 40 -6 -78 -77 -81 51 98 60 3 27 4 -24 -24 -59 -51 -88 -51 26 9 10 -36 -51 -32 -49 -55 -69 -95 -97 -82 61 -12 25 50 8 -69 -73 -84 -48 60 36 5 23 31 -22 -33 -39 -49 -94 -15 64 14 2 -46 -53 -40 -34 -47 -50 -73 -80 -102 66 -23 16 57 5 -60 -75 -81 -84 24 -2 -34 20 55 1 -30 -23 -19 -81 12 50 12 -17 -45 -49 -48 -43 -47 -39 -55 -64 -104 65 -25 35 64 -30 -62 -70 -78 -89 -8 -25 -1 27 72 29 -11 -21 -19 -60 19 46 8 -24 -48 -52 -58 -56 -34 -29 -47 -59 -94 68 -16 44 60 -19 -61 -66 -73 -94 -40 -25 41 41 31 12 6 -3 -33 -58 21 42 -1 -6 -23 -45 -37 -38 -24 -17 -48 -75 -81 69 8 46 53 14 -51 -40 -51 -76 -35 -12 83 102 9 2 -16 -27 -33 -53 -10 18 10 -27 -48 -60 -41 -29 -29 -35 -74 -80 -80 76 32 50 60 44 -38 -2 -15 -46 -91 5 27 13 -11 -40 -38 -36 -41 -70 -24 -19 -2 -10 -31 -56 -51 -34 -46 -73 -83 -73 -82 87 52 56 66 58 -23 -26 17 -17 -67 -23 -33 -39 -39 -55 -30 -40 -33 -26 -64 -96 -23 -13 -67 -77 -75 -63 -50 -64 -60 -64 -74 77 64 61 65 60 5 -32 15 13 -17 -48 -73 -20 -32 -28 5 -35 -35 -8 -35 -36 -42 -70 -76 -89 -68 -88 -69 -66 -74 -83 -82 52 59 53 57 56 24 -29 4 2 7 -2 -77 -20 -42 -5 40 -10 -55 -25 -23 -10 -50 -84 -78 -76 -35 -68 -60 -64 -76 -78 -82 18 59 47 44 52 32 -17 18 57 -17 -41 -55 -42 -12 45 49 20 -27 -62 -65 -71 -74 -77 -87 -59 -45 -53 -46 -52 -67 -59 -65 -4 72 48 40 51 19 -37 31 122 97 16 19 36 64 80 69 53 15 -19 -66 -70 -60 -41 -26 -18 -17 -6 -9 -8 -16 -16 -13 5 85 64 49 54 22 -15 81 119 124 104 29 21 34 28 24 20 -9 -24 -27 -17 -18 -13 -3 3 2 7 13 14 4 9 4 7 40 60 60 64 46 36 109 113 100 25 -17 -23 -23 -21 -27 -13 -8 -15 -12 -3 -3 -2 0 4 11 9 9 7 6 11 5 13 2 6 48 63 9 53 114 117 47 -1 -10 -9 -7 -8 -12 -11 -11 -13 -15 -8 -3 -3 2 6 17 14 14 18 16 12 21 34 12 -4 8 39 15 81 121 77 -10 0 -3 -1 -1 -7 -13 -15 -16 -15 -11 -5 3 6 10 22 24 19 21 26 24 39 54 37 19 2 -6 -2 36 106 119 25 -14 -5 3 1 -9 -9 -9 -9 -9 -5 -1 3 13 22 26 22 13 12 10 30 50 54 41 34 21 10 5 -2 10 105 106 12 -2 1 -4 5 -5 -12 -9 -6 -2 2 4 12 10 11 20 19 11 5 25 54 48 14 11 33 19 15 13 10 -3 31 83 -9 -7 0 2 11 7 3 -8 -10 -8 2 7 8 11 10 8 7 10 23 50 36 12 -25 8 49 20 9 18 11 4 -15 5 -14 -23 -23 -11 0 7 9 0 3 9 11 10 9 8 3 -3 5 26 51 53 40 18 -20 -1 40 20 4 15 11 6 -3 -16 -13 -24 -26 -19 -22 -20 -13 -8 0 7 16 28 24 6 -1 -1 16 42 69 62 36 2 -2 -21 32 21 4 6 6 4 -5 -13 -14 -23 -27 -20 -24 -20 -30 -39 -28 -10 9 24 17 3 2 -5 17 39 54 47 17 -4 1 -18\"\n",
    "channel1 = channel1.split(\" \")\n",
    "channel1 = [eval(x) for x in channel1]\n",
    "channel1 = np.array(channel1)\n",
    "channel1 = channel1.reshape((32,32))\n",
    "\n",
    "channel2 = channel2.split(\" \")\n",
    "channel2 = [eval(x) for x in channel2]\n",
    "channel2 = np.array(channel2)\n",
    "channel2 = channel2.reshape((32,32))\n",
    "\n",
    "channel3 = channel3.split(\" \")\n",
    "channel3 = [eval(x) for x in channel3]\n",
    "channel3 = np.array(channel3)\n",
    "channel3 = channel3.reshape((32,32))\n",
    "#sns.heatmap(channel1, cmap=\"Blues\")\n",
    "img = np.dstack((channel1, channel2, channel3))\n",
    "img = img + 128 \n",
    "plt.imshow(img)\n",
    "plt.show()"
   ]
  },
  {
   "cell_type": "code",
   "execution_count": 4,
   "id": "6023e25d-fc25-4baa-a918-ea40fed7a9fc",
   "metadata": {},
   "outputs": [
    {
     "ename": "ModuleNotFoundError",
     "evalue": "No module named 'torch'",
     "output_type": "error",
     "traceback": [
      "\u001b[0;31m---------------------------------------------------------------------------\u001b[0m",
      "\u001b[0;31mModuleNotFoundError\u001b[0m                       Traceback (most recent call last)",
      "Cell \u001b[0;32mIn[4], line 1\u001b[0m\n\u001b[0;32m----> 1\u001b[0m \u001b[38;5;28;01mimport\u001b[39;00m \u001b[38;5;21;01mtorch\u001b[39;00m\n\u001b[1;32m      2\u001b[0m \u001b[38;5;28;01mimport\u001b[39;00m \u001b[38;5;21;01mtorch\u001b[39;00m\u001b[38;5;21;01m.\u001b[39;00m\u001b[38;5;21;01mnn\u001b[39;00m\u001b[38;5;21;01m.\u001b[39;00m\u001b[38;5;21;01mfunctional\u001b[39;00m \u001b[38;5;28;01mas\u001b[39;00m \u001b[38;5;21;01mF\u001b[39;00m\n\u001b[1;32m      4\u001b[0m \u001b[38;5;66;03m# Define your custom input (batch_size, channels, height, width) in int8\u001b[39;00m\n",
      "\u001b[0;31mModuleNotFoundError\u001b[0m: No module named 'torch'"
     ]
    }
   ],
   "source": [
    "import torch\n",
    "import torch.nn.functional as F\n",
    "\n",
    "# Define your custom input (batch_size, channels, height, width) in int8\n",
    "img = [channel1+128, channel2+128, channel3+128]\n",
    "input_data = torch.tensor(img, dtype=torch.int32).unsqueeze(0)  # Shape: (1, 1, 3, 3)\n",
    "\n",
    "custom_weights = torch.tensor([[\n",
    "    [\n",
    "        [25, 21, 75],\n",
    "        [-89,  -7,  -20],\n",
    "        [-82, 38, -88]\n",
    "    ],\n",
    "    [\n",
    "        [33, -16, 17],\n",
    "        [ -10, 40,  -41],\n",
    "        [ -1, 58,  -24]\n",
    "    ],\n",
    "    [\n",
    "        [-47,  -60, -102],\n",
    "        [ 75, -12,  -19],\n",
    "        [8, 127,   44]\n",
    "    ]\n",
    "]], dtype=torch.int32)\n",
    "# Define custom bias (for each output channel) in int32 (since bias is usually higher precision)\n",
    "custom_bias = torch.tensor([6836], dtype=torch.int32)\n",
    "\n",
    "# Cast input and weights to int32 for the operation (PyTorch does not support int8 directly for Conv2D)\n",
    "input_data = input_data.to(torch.int64)\n",
    "custom_weights = custom_weights.to(torch.int64)\n",
    "\n",
    "# Perform convolution with manual strides and no padding (similar to VALID padding in TensorFlow)\n",
    "conv_output = F.conv2d(input_data, custom_weights, bias=None, stride=(1), padding=(1,1))\n",
    "\n",
    "# Add the bias manually\n",
    "conv_output_with_bias = conv_output + custom_bias.view(1, -1, 1, 1)\n",
    "\n",
    "# Apply ReLU activation (and cast back to int8 if necessary)\n",
    "#relu_output = F.relu(conv_output_with_bias).to(torch.int32)\n",
    "print(\"Input:\\n\", input_data, \"shape:\", input_data.shape)\n",
    "print(\"Weights:\\n\", custom_weights)\n",
    "print(\"Bias:\\n\", custom_bias)\n",
    "print(\"Conv2D output before bias:\\n\", conv_output, \"shape:\", conv_output.shape)\n",
    "print(\"Conv2D output after bias:\\n\", conv_output_with_bias)\n",
    "#print(\"Conv2D + Bias + ReLU output (int8):\\n\", relu_output)\n",
    "\n",
    "s = 1242405367\n",
    "z = 8\n",
    "input_zero = -128\n",
    "input_scale = 0.000089 \n",
    "output_zero = 0\n",
    "output_scale = 0.039394\n",
    "scale1 = input_scale / output_scale\n",
    "print(\"scale1:\", scale1)\n",
    "scale = ((1 * s)+2**(z+30))/2**(z+31)\n",
    "print(\"Scale:\", scale)\n",
    "res = ((conv_output + 6836)*s+2**(z+30))/2**(z+31)-128\n",
    "res2 = ((conv_output + 6836) * scale1) - 128\n",
    "conv_output_with_bias = conv_output_with_bias >> 8\n",
    "print(conv_output_with_bias)\n",
    "res3 = (((59 << 7) - output_zero) / output_scale) * input_scale + input_zero\n",
    "res3 = res3+128\n",
    "print(\"Res:\", res) \n",
    "print(\"Res2:\", res3) \n",
    "#print(\"Clamp:\", torch.clamp(res, min=-128, max=127))"
   ]
  },
  {
   "cell_type": "code",
   "execution_count": null,
   "id": "b03aa637-e5b9-4c91-a708-56eb5b166d61",
   "metadata": {},
   "outputs": [],
   "source": []
  },
  {
   "cell_type": "code",
   "execution_count": null,
   "id": "f88fc82e-cb5d-4bb4-bddc-b77787dc22dd",
   "metadata": {},
   "outputs": [],
   "source": []
  },
  {
   "cell_type": "code",
   "execution_count": null,
   "id": "758798ad-3407-4c79-8b8d-5f2c97f7e931",
   "metadata": {},
   "outputs": [],
   "source": []
  },
  {
   "cell_type": "code",
   "execution_count": null,
   "id": "305f8428-6e15-41f1-b963-f1917b64a81a",
   "metadata": {},
   "outputs": [],
   "source": []
  },
  {
   "cell_type": "code",
   "execution_count": null,
   "id": "c01936a1-c724-4187-b79a-d9a840f421e7",
   "metadata": {},
   "outputs": [],
   "source": []
  },
  {
   "cell_type": "code",
   "execution_count": null,
   "id": "ae3a3fbc-5630-4d90-b340-ee3ee9e52c39",
   "metadata": {},
   "outputs": [],
   "source": []
  }
 ],
 "metadata": {
  "kernelspec": {
   "display_name": "Python 3 (ipykernel)",
   "language": "python",
   "name": "python3"
  },
  "language_info": {
   "codemirror_mode": {
    "name": "ipython",
    "version": 3
   },
   "file_extension": ".py",
   "mimetype": "text/x-python",
   "name": "python",
   "nbconvert_exporter": "python",
   "pygments_lexer": "ipython3",
   "version": "3.8.19"
  }
 },
 "nbformat": 4,
 "nbformat_minor": 5
}
